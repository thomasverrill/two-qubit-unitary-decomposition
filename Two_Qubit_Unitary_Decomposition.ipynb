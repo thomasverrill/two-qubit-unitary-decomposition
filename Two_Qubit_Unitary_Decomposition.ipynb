{
  "nbformat": 4,
  "nbformat_minor": 0,
  "metadata": {
    "colab": {
      "provenance": [],
      "collapsed_sections": [
        "TIECSq79clal",
        "pTI4uDQ6cpfA",
        "yIKac7VtgwEC",
        "FCgxat6ig1R5"
      ]
    },
    "kernelspec": {
      "name": "python3",
      "display_name": "Python 3"
    },
    "language_info": {
      "name": "python"
    }
  },
  "cells": [
    {
      "cell_type": "markdown",
      "source": [
        "# Efficient Decompositions of 2-Qubit Unitaries\n",
        "Implementing both B-gate and SQiSW-based methods of 2-Qubit quantum gate decomposition.\n",
        "\n",
        "Kerstin Fagerstrom and Thomas Verrill\n",
        "\n",
        "ECE 396: Quantum Computing\n",
        "\n",
        "December 17, 2022"
      ],
      "metadata": {
        "id": "TIECSq79clal"
      }
    },
    {
      "cell_type": "code",
      "execution_count": null,
      "metadata": {
        "id": "g3Ly63GWWQOE",
        "colab": {
          "base_uri": "https://localhost:8080/"
        },
        "outputId": "9f17e684-b34c-44ca-c388-0b28ff026879"
      },
      "outputs": [
        {
          "output_type": "stream",
          "name": "stdout",
          "text": [
            "Looking in indexes: https://pypi.org/simple, https://us-python.pkg.dev/colab-wheels/public/simple/\n",
            "Collecting qiskit\n",
            "  Downloading qiskit-0.39.4.tar.gz (13 kB)\n",
            "  Preparing metadata (setup.py) ... \u001b[?25l\u001b[?25hdone\n",
            "Requirement already satisfied: ipywidgets in /usr/local/lib/python3.8/dist-packages (7.7.1)\n",
            "Collecting pylatexenc\n",
            "  Downloading pylatexenc-2.10.tar.gz (162 kB)\n",
            "\u001b[2K     \u001b[90m━━━━━━━━━━━━━━━━━━━━━━━━━━━━━━━━━━━━━━\u001b[0m \u001b[32m162.6/162.6 KB\u001b[0m \u001b[31m16.6 MB/s\u001b[0m eta \u001b[36m0:00:00\u001b[0m\n",
            "\u001b[?25h  Preparing metadata (setup.py) ... \u001b[?25l\u001b[?25hdone\n",
            "Collecting qiskit-terra==0.22.3\n",
            "  Downloading qiskit_terra-0.22.3-cp38-cp38-manylinux_2_17_x86_64.manylinux2014_x86_64.whl (4.8 MB)\n",
            "\u001b[2K     \u001b[90m━━━━━━━━━━━━━━━━━━━━━━━━━━━━━━━━━━━━━━━━\u001b[0m \u001b[32m4.8/4.8 MB\u001b[0m \u001b[31m80.1 MB/s\u001b[0m eta \u001b[36m0:00:00\u001b[0m\n",
            "\u001b[?25hCollecting qiskit-aer==0.11.2\n",
            "  Downloading qiskit_aer-0.11.2-cp38-cp38-manylinux_2_17_x86_64.manylinux2014_x86_64.whl (12.8 MB)\n",
            "\u001b[2K     \u001b[90m━━━━━━━━━━━━━━━━━━━━━━━━━━━━━━━━━━━━━━━━\u001b[0m \u001b[32m12.8/12.8 MB\u001b[0m \u001b[31m74.6 MB/s\u001b[0m eta \u001b[36m0:00:00\u001b[0m\n",
            "\u001b[?25hCollecting qiskit-ibmq-provider==0.19.2\n",
            "  Downloading qiskit_ibmq_provider-0.19.2-py3-none-any.whl (240 kB)\n",
            "\u001b[2K     \u001b[90m━━━━━━━━━━━━━━━━━━━━━━━━━━━━━━━━━━━━━━\u001b[0m \u001b[32m240.4/240.4 KB\u001b[0m \u001b[31m24.1 MB/s\u001b[0m eta \u001b[36m0:00:00\u001b[0m\n",
            "\u001b[?25hRequirement already satisfied: numpy>=1.16.3 in /usr/local/lib/python3.8/dist-packages (from qiskit-aer==0.11.2->qiskit) (1.21.6)\n",
            "Requirement already satisfied: scipy>=1.0 in /usr/local/lib/python3.8/dist-packages (from qiskit-aer==0.11.2->qiskit) (1.7.3)\n",
            "Requirement already satisfied: python-dateutil>=2.8.0 in /usr/local/lib/python3.8/dist-packages (from qiskit-ibmq-provider==0.19.2->qiskit) (2.8.2)\n",
            "Collecting websockets>=10.0\n",
            "  Downloading websockets-10.4-cp38-cp38-manylinux_2_5_x86_64.manylinux1_x86_64.manylinux_2_17_x86_64.manylinux2014_x86_64.whl (106 kB)\n",
            "\u001b[2K     \u001b[90m━━━━━━━━━━━━━━━━━━━━━━━━━━━━━━━━━━━━━━\u001b[0m \u001b[32m107.0/107.0 KB\u001b[0m \u001b[31m14.2 MB/s\u001b[0m eta \u001b[36m0:00:00\u001b[0m\n",
            "\u001b[?25hCollecting websocket-client>=1.0.1\n",
            "  Downloading websocket_client-1.4.2-py3-none-any.whl (55 kB)\n",
            "\u001b[2K     \u001b[90m━━━━━━━━━━━━━━━━━━━━━━━━━━━━━━━━━━━━━━━━\u001b[0m \u001b[32m55.3/55.3 KB\u001b[0m \u001b[31m3.7 MB/s\u001b[0m eta \u001b[36m0:00:00\u001b[0m\n",
            "\u001b[?25hCollecting requests-ntlm>=1.1.0\n",
            "  Downloading requests_ntlm-1.1.0-py2.py3-none-any.whl (5.7 kB)\n",
            "Requirement already satisfied: urllib3>=1.21.1 in /usr/local/lib/python3.8/dist-packages (from qiskit-ibmq-provider==0.19.2->qiskit) (1.24.3)\n",
            "Requirement already satisfied: requests>=2.19 in /usr/local/lib/python3.8/dist-packages (from qiskit-ibmq-provider==0.19.2->qiskit) (2.25.1)\n",
            "Collecting symengine>=0.9\n",
            "  Downloading symengine-0.9.2-cp38-cp38-manylinux2010_x86_64.whl (37.5 MB)\n",
            "\u001b[2K     \u001b[90m━━━━━━━━━━━━━━━━━━━━━━━━━━━━━━━━━━━━━━━━\u001b[0m \u001b[32m37.5/37.5 MB\u001b[0m \u001b[31m17.1 MB/s\u001b[0m eta \u001b[36m0:00:00\u001b[0m\n",
            "\u001b[?25hCollecting ply>=3.10\n",
            "  Downloading ply-3.11-py2.py3-none-any.whl (49 kB)\n",
            "\u001b[2K     \u001b[90m━━━━━━━━━━━━━━━━━━━━━━━━━━━━━━━━━━━━━━━━\u001b[0m \u001b[32m49.6/49.6 KB\u001b[0m \u001b[31m5.5 MB/s\u001b[0m eta \u001b[36m0:00:00\u001b[0m\n",
            "\u001b[?25hRequirement already satisfied: sympy>=1.3 in /usr/local/lib/python3.8/dist-packages (from qiskit-terra==0.22.3->qiskit) (1.7.1)\n",
            "Collecting tweedledum<2.0,>=1.1\n",
            "  Downloading tweedledum-1.1.1-cp38-cp38-manylinux_2_12_x86_64.manylinux2010_x86_64.whl (929 kB)\n",
            "\u001b[2K     \u001b[90m━━━━━━━━━━━━━━━━━━━━━━━━━━━━━━━━━━━━━━\u001b[0m \u001b[32m929.9/929.9 KB\u001b[0m \u001b[31m62.3 MB/s\u001b[0m eta \u001b[36m0:00:00\u001b[0m\n",
            "\u001b[?25hCollecting retworkx>=0.11.0\n",
            "  Downloading retworkx-0.12.1-py3-none-any.whl (10 kB)\n",
            "Collecting stevedore>=3.0.0\n",
            "  Downloading stevedore-4.1.1-py3-none-any.whl (50 kB)\n",
            "\u001b[2K     \u001b[90m━━━━━━━━━━━━━━━━━━━━━━━━━━━━━━━━━━━━━━━━\u001b[0m \u001b[32m50.0/50.0 KB\u001b[0m \u001b[31m7.2 MB/s\u001b[0m eta \u001b[36m0:00:00\u001b[0m\n",
            "\u001b[?25hRequirement already satisfied: dill>=0.3 in /usr/local/lib/python3.8/dist-packages (from qiskit-terra==0.22.3->qiskit) (0.3.6)\n",
            "Requirement already satisfied: psutil>=5 in /usr/local/lib/python3.8/dist-packages (from qiskit-terra==0.22.3->qiskit) (5.4.8)\n",
            "Requirement already satisfied: widgetsnbextension~=3.6.0 in /usr/local/lib/python3.8/dist-packages (from ipywidgets) (3.6.1)\n",
            "Requirement already satisfied: ipykernel>=4.5.1 in /usr/local/lib/python3.8/dist-packages (from ipywidgets) (5.3.4)\n",
            "Requirement already satisfied: ipython>=4.0.0 in /usr/local/lib/python3.8/dist-packages (from ipywidgets) (7.9.0)\n",
            "Requirement already satisfied: ipython-genutils~=0.2.0 in /usr/local/lib/python3.8/dist-packages (from ipywidgets) (0.2.0)\n",
            "Requirement already satisfied: traitlets>=4.3.1 in /usr/local/lib/python3.8/dist-packages (from ipywidgets) (5.7.1)\n",
            "Requirement already satisfied: jupyterlab-widgets>=1.0.0 in /usr/local/lib/python3.8/dist-packages (from ipywidgets) (3.0.5)\n",
            "Requirement already satisfied: jupyter-client in /usr/local/lib/python3.8/dist-packages (from ipykernel>=4.5.1->ipywidgets) (6.1.12)\n",
            "Requirement already satisfied: tornado>=4.2 in /usr/local/lib/python3.8/dist-packages (from ipykernel>=4.5.1->ipywidgets) (6.0.4)\n",
            "Requirement already satisfied: pygments in /usr/local/lib/python3.8/dist-packages (from ipython>=4.0.0->ipywidgets) (2.6.1)\n",
            "Requirement already satisfied: prompt-toolkit<2.1.0,>=2.0.0 in /usr/local/lib/python3.8/dist-packages (from ipython>=4.0.0->ipywidgets) (2.0.10)\n",
            "Collecting jedi>=0.10\n",
            "  Downloading jedi-0.18.2-py2.py3-none-any.whl (1.6 MB)\n",
            "\u001b[2K     \u001b[90m━━━━━━━━━━━━━━━━━━━━━━━━━━━━━━━━━━━━━━━━\u001b[0m \u001b[32m1.6/1.6 MB\u001b[0m \u001b[31m79.8 MB/s\u001b[0m eta \u001b[36m0:00:00\u001b[0m\n",
            "\u001b[?25hRequirement already satisfied: pickleshare in /usr/local/lib/python3.8/dist-packages (from ipython>=4.0.0->ipywidgets) (0.7.5)\n",
            "Requirement already satisfied: setuptools>=18.5 in /usr/local/lib/python3.8/dist-packages (from ipython>=4.0.0->ipywidgets) (57.4.0)\n",
            "Requirement already satisfied: decorator in /usr/local/lib/python3.8/dist-packages (from ipython>=4.0.0->ipywidgets) (4.4.2)\n",
            "Requirement already satisfied: pexpect in /usr/local/lib/python3.8/dist-packages (from ipython>=4.0.0->ipywidgets) (4.8.0)\n",
            "Requirement already satisfied: backcall in /usr/local/lib/python3.8/dist-packages (from ipython>=4.0.0->ipywidgets) (0.2.0)\n",
            "Requirement already satisfied: notebook>=4.4.1 in /usr/local/lib/python3.8/dist-packages (from widgetsnbextension~=3.6.0->ipywidgets) (5.7.16)\n",
            "Requirement already satisfied: parso<0.9.0,>=0.8.0 in /usr/local/lib/python3.8/dist-packages (from jedi>=0.10->ipython>=4.0.0->ipywidgets) (0.8.3)\n",
            "Requirement already satisfied: pyzmq>=17 in /usr/local/lib/python3.8/dist-packages (from notebook>=4.4.1->widgetsnbextension~=3.6.0->ipywidgets) (23.2.1)\n",
            "Requirement already satisfied: jinja2<=3.0.0 in /usr/local/lib/python3.8/dist-packages (from notebook>=4.4.1->widgetsnbextension~=3.6.0->ipywidgets) (2.11.3)\n",
            "Requirement already satisfied: nbconvert<6.0 in /usr/local/lib/python3.8/dist-packages (from notebook>=4.4.1->widgetsnbextension~=3.6.0->ipywidgets) (5.6.1)\n",
            "Requirement already satisfied: Send2Trash in /usr/local/lib/python3.8/dist-packages (from notebook>=4.4.1->widgetsnbextension~=3.6.0->ipywidgets) (1.8.0)\n",
            "Requirement already satisfied: terminado>=0.8.1 in /usr/local/lib/python3.8/dist-packages (from notebook>=4.4.1->widgetsnbextension~=3.6.0->ipywidgets) (0.13.3)\n",
            "Requirement already satisfied: jupyter-core>=4.4.0 in /usr/local/lib/python3.8/dist-packages (from notebook>=4.4.1->widgetsnbextension~=3.6.0->ipywidgets) (5.1.1)\n",
            "Requirement already satisfied: prometheus-client in /usr/local/lib/python3.8/dist-packages (from notebook>=4.4.1->widgetsnbextension~=3.6.0->ipywidgets) (0.15.0)\n",
            "Requirement already satisfied: nbformat in /usr/local/lib/python3.8/dist-packages (from notebook>=4.4.1->widgetsnbextension~=3.6.0->ipywidgets) (5.7.1)\n",
            "Requirement already satisfied: wcwidth in /usr/local/lib/python3.8/dist-packages (from prompt-toolkit<2.1.0,>=2.0.0->ipython>=4.0.0->ipywidgets) (0.2.5)\n",
            "Requirement already satisfied: six>=1.9.0 in /usr/local/lib/python3.8/dist-packages (from prompt-toolkit<2.1.0,>=2.0.0->ipython>=4.0.0->ipywidgets) (1.15.0)\n",
            "Requirement already satisfied: idna<3,>=2.5 in /usr/local/lib/python3.8/dist-packages (from requests>=2.19->qiskit-ibmq-provider==0.19.2->qiskit) (2.10)\n",
            "Requirement already satisfied: chardet<5,>=3.0.2 in /usr/local/lib/python3.8/dist-packages (from requests>=2.19->qiskit-ibmq-provider==0.19.2->qiskit) (4.0.0)\n",
            "Requirement already satisfied: certifi>=2017.4.17 in /usr/local/lib/python3.8/dist-packages (from requests>=2.19->qiskit-ibmq-provider==0.19.2->qiskit) (2022.12.7)\n",
            "Collecting cryptography>=1.3\n",
            "  Downloading cryptography-39.0.0-cp36-abi3-manylinux_2_24_x86_64.whl (4.1 MB)\n",
            "\u001b[2K     \u001b[90m━━━━━━━━━━━━━━━━━━━━━━━━━━━━━━━━━━━━━━━━\u001b[0m \u001b[32m4.1/4.1 MB\u001b[0m \u001b[31m110.2 MB/s\u001b[0m eta \u001b[36m0:00:00\u001b[0m\n",
            "\u001b[?25hCollecting ntlm-auth>=1.0.2\n",
            "  Downloading ntlm_auth-1.5.0-py2.py3-none-any.whl (29 kB)\n",
            "Collecting rustworkx==0.12.1\n",
            "  Downloading rustworkx-0.12.1-cp38-cp38-manylinux_2_17_x86_64.manylinux2014_x86_64.whl (1.9 MB)\n",
            "\u001b[2K     \u001b[90m━━━━━━━━━━━━━━━━━━━━━━━━━━━━━━━━━━━━━━━━\u001b[0m \u001b[32m1.9/1.9 MB\u001b[0m \u001b[31m89.7 MB/s\u001b[0m eta \u001b[36m0:00:00\u001b[0m\n",
            "\u001b[?25hCollecting pbr!=2.1.0,>=2.0.0\n",
            "  Downloading pbr-5.11.0-py2.py3-none-any.whl (112 kB)\n",
            "\u001b[2K     \u001b[90m━━━━━━━━━━━━━━━━━━━━━━━━━━━━━━━━━━━━━━\u001b[0m \u001b[32m112.6/112.6 KB\u001b[0m \u001b[31m15.5 MB/s\u001b[0m eta \u001b[36m0:00:00\u001b[0m\n",
            "\u001b[?25hRequirement already satisfied: mpmath>=0.19 in /usr/local/lib/python3.8/dist-packages (from sympy>=1.3->qiskit-terra==0.22.3->qiskit) (1.2.1)\n",
            "Requirement already satisfied: ptyprocess>=0.5 in /usr/local/lib/python3.8/dist-packages (from pexpect->ipython>=4.0.0->ipywidgets) (0.7.0)\n",
            "Requirement already satisfied: cffi>=1.12 in /usr/local/lib/python3.8/dist-packages (from cryptography>=1.3->requests-ntlm>=1.1.0->qiskit-ibmq-provider==0.19.2->qiskit) (1.15.1)\n",
            "Requirement already satisfied: MarkupSafe>=0.23 in /usr/local/lib/python3.8/dist-packages (from jinja2<=3.0.0->notebook>=4.4.1->widgetsnbextension~=3.6.0->ipywidgets) (2.0.1)\n",
            "Requirement already satisfied: platformdirs>=2.5 in /usr/local/lib/python3.8/dist-packages (from jupyter-core>=4.4.0->notebook>=4.4.1->widgetsnbextension~=3.6.0->ipywidgets) (2.6.0)\n",
            "Requirement already satisfied: pandocfilters>=1.4.1 in /usr/local/lib/python3.8/dist-packages (from nbconvert<6.0->notebook>=4.4.1->widgetsnbextension~=3.6.0->ipywidgets) (1.5.0)\n",
            "Requirement already satisfied: testpath in /usr/local/lib/python3.8/dist-packages (from nbconvert<6.0->notebook>=4.4.1->widgetsnbextension~=3.6.0->ipywidgets) (0.6.0)\n",
            "Requirement already satisfied: bleach in /usr/local/lib/python3.8/dist-packages (from nbconvert<6.0->notebook>=4.4.1->widgetsnbextension~=3.6.0->ipywidgets) (5.0.1)\n",
            "Requirement already satisfied: mistune<2,>=0.8.1 in /usr/local/lib/python3.8/dist-packages (from nbconvert<6.0->notebook>=4.4.1->widgetsnbextension~=3.6.0->ipywidgets) (0.8.4)\n",
            "Requirement already satisfied: defusedxml in /usr/local/lib/python3.8/dist-packages (from nbconvert<6.0->notebook>=4.4.1->widgetsnbextension~=3.6.0->ipywidgets) (0.7.1)\n",
            "Requirement already satisfied: entrypoints>=0.2.2 in /usr/local/lib/python3.8/dist-packages (from nbconvert<6.0->notebook>=4.4.1->widgetsnbextension~=3.6.0->ipywidgets) (0.4)\n",
            "Requirement already satisfied: fastjsonschema in /usr/local/lib/python3.8/dist-packages (from nbformat->notebook>=4.4.1->widgetsnbextension~=3.6.0->ipywidgets) (2.16.2)\n",
            "Requirement already satisfied: jsonschema>=2.6 in /usr/local/lib/python3.8/dist-packages (from nbformat->notebook>=4.4.1->widgetsnbextension~=3.6.0->ipywidgets) (4.3.3)\n",
            "Requirement already satisfied: pycparser in /usr/local/lib/python3.8/dist-packages (from cffi>=1.12->cryptography>=1.3->requests-ntlm>=1.1.0->qiskit-ibmq-provider==0.19.2->qiskit) (2.21)\n",
            "Requirement already satisfied: pyrsistent!=0.17.0,!=0.17.1,!=0.17.2,>=0.14.0 in /usr/local/lib/python3.8/dist-packages (from jsonschema>=2.6->nbformat->notebook>=4.4.1->widgetsnbextension~=3.6.0->ipywidgets) (0.19.2)\n",
            "Requirement already satisfied: attrs>=17.4.0 in /usr/local/lib/python3.8/dist-packages (from jsonschema>=2.6->nbformat->notebook>=4.4.1->widgetsnbextension~=3.6.0->ipywidgets) (22.2.0)\n",
            "Requirement already satisfied: importlib-resources>=1.4.0 in /usr/local/lib/python3.8/dist-packages (from jsonschema>=2.6->nbformat->notebook>=4.4.1->widgetsnbextension~=3.6.0->ipywidgets) (5.10.1)\n",
            "Requirement already satisfied: webencodings in /usr/local/lib/python3.8/dist-packages (from bleach->nbconvert<6.0->notebook>=4.4.1->widgetsnbextension~=3.6.0->ipywidgets) (0.5.1)\n",
            "Requirement already satisfied: zipp>=3.1.0 in /usr/local/lib/python3.8/dist-packages (from importlib-resources>=1.4.0->jsonschema>=2.6->nbformat->notebook>=4.4.1->widgetsnbextension~=3.6.0->ipywidgets) (3.11.0)\n",
            "Building wheels for collected packages: qiskit, pylatexenc\n",
            "  Building wheel for qiskit (setup.py) ... \u001b[?25l\u001b[?25hdone\n",
            "  Created wheel for qiskit: filename=qiskit-0.39.4-py3-none-any.whl size=12274 sha256=6f1a8447d4398dc195ea798042e49c8286a4266ef2b59978fec00a66e0221ab6\n",
            "  Stored in directory: /root/.cache/pip/wheels/40/2c/d7/aa04e366b971ddf815dba1250b024c248e7851ee208dd0e990\n",
            "  Building wheel for pylatexenc (setup.py) ... \u001b[?25l\u001b[?25hdone\n",
            "  Created wheel for pylatexenc: filename=pylatexenc-2.10-py3-none-any.whl size=136833 sha256=5f6deb6131928474ddefc05e6ea62caa5eed2f276844d4b8874dcbd9fbb9af01\n",
            "  Stored in directory: /root/.cache/pip/wheels/72/99/be/81d9bcdf5dd5ee5acd8119a9dd5bc07204c9ce205fd341b021\n",
            "Successfully built qiskit pylatexenc\n",
            "Installing collected packages: pylatexenc, ply, websockets, websocket-client, tweedledum, symengine, rustworkx, pbr, ntlm-auth, jedi, stevedore, retworkx, cryptography, requests-ntlm, qiskit-terra, qiskit-ibmq-provider, qiskit-aer, qiskit\n",
            "Successfully installed cryptography-39.0.0 jedi-0.18.2 ntlm-auth-1.5.0 pbr-5.11.0 ply-3.11 pylatexenc-2.10 qiskit-0.39.4 qiskit-aer-0.11.2 qiskit-ibmq-provider-0.19.2 qiskit-terra-0.22.3 requests-ntlm-1.1.0 retworkx-0.12.1 rustworkx-0.12.1 stevedore-4.1.1 symengine-0.9.2 tweedledum-1.1.1 websocket-client-1.4.2 websockets-10.4\n"
          ]
        }
      ],
      "source": [
        "# initialize the notebook and necessary packages\n",
        "!pip install qiskit ipywidgets pylatexenc\n",
        "\n",
        "'''Some generic python and jupyter imports'''\n",
        "import numpy as np\n",
        "from numpy import pi,sqrt\n",
        "\n",
        "''' Some Jupyter notebook settings'''\n",
        "%matplotlib inline\n",
        "%config InlineBackend.figure_format ='retina'\n",
        "\n",
        "'''Qiskit imports'''\n",
        "from qiskit import(\n",
        "    QuantumCircuit\n",
        "    , execute\n",
        "    , Aer\n",
        "    , ClassicalRegister\n",
        "    , QuantumRegister\n",
        ")\n",
        "\n",
        "#more qiskit and numpy imports\n",
        "backend_qasm = Aer.get_backend('qasm_simulator')\n",
        "from qiskit.visualization import plot_histogram\n",
        "from qiskit.quantum_info import TwoQubitBasisDecomposer\n",
        "from qiskit.quantum_info import random_unitary\n",
        "from qiskit.circuit.library import CXGate\n",
        "from qiskit.compiler import transpile\n",
        "from qiskit.quantum_info.operators import Operator, Pauli\n",
        "from qiskit.quantum_info import process_fidelity\n",
        "from qiskit.extensions import RXGate, XGate, CXGate\n",
        "from qiskit.extensions import UnitaryGate\n",
        "from qiskit.quantum_info.synthesis.two_qubit_decompose import TwoQubitWeylDecomposition\n",
        "from numpy.linalg.linalg import transpose\n",
        "from numpy.linalg import *\n",
        "from qiskit.quantum_info.synthesis import OneQubitEulerDecomposer\n",
        "from qiskit import *"
      ]
    },
    {
      "cell_type": "markdown",
      "source": [
        "# B Gate Decomposition\n",
        "Implements B gate decompostion as discussed in \"Minimum construction of two-qubit quantum operations.\""
      ],
      "metadata": {
        "id": "pTI4uDQ6cpfA"
      }
    },
    {
      "cell_type": "markdown",
      "source": [
        "###Random Unitary Initialization"
      ],
      "metadata": {
        "id": "3Zn8SW1JYUhy"
      }
    },
    {
      "cell_type": "code",
      "source": [
        "# initialize random unitary to decompose\n",
        "ru = random_unitary(4)"
      ],
      "metadata": {
        "id": "O59cMKrsW5VU"
      },
      "execution_count": null,
      "outputs": []
    },
    {
      "cell_type": "code",
      "source": [
        "# Find Weyl Decomposition coordinates of arbitrary unitary\n",
        "a = TwoQubitWeylDecomposition(ru).a*2 #multiplication by 2 because Qiskit scales coordinates by 1/2\n",
        "b = TwoQubitWeylDecomposition(ru).b*2\n",
        "c = TwoQubitWeylDecomposition(ru).c*2"
      ],
      "metadata": {
        "id": "M0Fuh1aqdLMF"
      },
      "execution_count": null,
      "outputs": []
    },
    {
      "cell_type": "markdown",
      "source": [
        "### B gate"
      ],
      "metadata": {
        "id": "PjKqi8kiczih"
      }
    },
    {
      "cell_type": "code",
      "source": [
        "#b_gate implementation as defined in the research paper\n",
        "b_gate = QuantumCircuit(2)\n",
        "b_gate.rxx(-pi/2, 0,1)\n",
        "b_gate.ryy(-pi/4,0,1)\n",
        "B = Operator(b_gate)"
      ],
      "metadata": {
        "id": "oLCuM_iUW_ky"
      },
      "execution_count": null,
      "outputs": []
    },
    {
      "cell_type": "markdown",
      "source": [
        "### Implement B gate sandwich"
      ],
      "metadata": {
        "id": "ShXVgyiSdOUn"
      }
    },
    {
      "cell_type": "code",
      "source": [
        "# constants to implement the nonlocal operation A (the B sandwich)\n",
        "beta1 = np.arccos(1-4*((np.sin(b/2))**2)*((np.cos(c/2))**2))\n",
        "beta2 = np.arcsin(sqrt((np.cos(b)*np.cos(c))/(1-2*(np.sin(b/2))**2*(np.cos(c/2))**2)))"
      ],
      "metadata": {
        "id": "wfW8eu4_dZdp"
      },
      "execution_count": null,
      "outputs": []
    },
    {
      "cell_type": "code",
      "source": [
        "# initialize decomposition circuit\n",
        "qr = QuantumRegister(2)\n",
        "circ = QuantumCircuit(qr)\n",
        "\n",
        "# non local operation A (B gates with rotations in between based on constants)\n",
        "def B_sand(temp_circ):\n",
        "  temp_circ.append(B, qr)\n",
        "  temp_circ.ry(-a,qr[0])\n",
        "  temp_circ.rz(-beta2,qr[1])\n",
        "  temp_circ.ry(-beta1,qr[1])\n",
        "  temp_circ.rz(-beta2,qr[1])\n",
        "  temp_circ.append(B, qr)\n",
        "\n",
        "#implement B_sandwich into circuit\n",
        "B_sand(circ)\n",
        "#create B sandwich operator\n",
        "o_c = Operator(circ)"
      ],
      "metadata": {
        "id": "PTS0eCnedbz6"
      },
      "execution_count": null,
      "outputs": []
    },
    {
      "cell_type": "code",
      "source": [
        "# Find Weyl Decomposition coordinates of B sandwich \n",
        "a1 = TwoQubitWeylDecomposition(o_c).a*2\n",
        "b1 = TwoQubitWeylDecomposition(o_c).b*2\n",
        "c1 = TwoQubitWeylDecomposition(o_c).c*2"
      ],
      "metadata": {
        "id": "ie_htPxRdd7V"
      },
      "execution_count": null,
      "outputs": []
    },
    {
      "cell_type": "code",
      "source": [
        "# phase correction\n",
        "# fixes the circuit in the case that the c coordinates of unitary and sandwich are opposite signs  \n",
        "if(np.sign(c1) != np.sign(c)): \n",
        "  qr1 = QuantumRegister(2)\n",
        "  new_circ = QuantumCircuit(qr1)\n",
        "\n",
        "  #new B_sandwich (sign of a on ry rotation is flipped)\n",
        "  new_circ.append(B, qr1)\n",
        "  new_circ.ry(a,qr1[0])\n",
        "  new_circ.rz(-beta2,qr1[1])\n",
        "  new_circ.ry(-beta1,qr1[1])\n",
        "  new_circ.rz(-beta2,qr1[1])\n",
        "  new_circ.append(B, qr1)\n",
        "\n",
        "  #implement B_sandwich into circuit\n",
        "  circ = new_circ\n",
        "  #create B sandwich operator\n",
        "  o_c = Operator(circ)"
      ],
      "metadata": {
        "id": "vXMzUBpAdgwl"
      },
      "execution_count": null,
      "outputs": []
    },
    {
      "cell_type": "markdown",
      "source": [
        "### Final Circuit & Results"
      ],
      "metadata": {
        "id": "AzSozGk3dl-t"
      }
    },
    {
      "cell_type": "code",
      "source": [
        "#Implement pre/post local rotations to B sandwich\n",
        "\n",
        "#initialize Weyl Decomposition of B_sandwich and random unitary\n",
        "b_decomp = TwoQubitWeylDecomposition(o_c)\n",
        "u_decomp = TwoQubitWeylDecomposition(ru)\n",
        "\n",
        "#create circuit for pre/post local rotations \n",
        "new_circuit = QuantumCircuit(2)\n",
        "\n",
        "#add the local random unitary pre-rotations to B sandwich\n",
        "new_circuit.append(Operator(u_decomp.K2r), [0])  \n",
        "new_circuit.append(Operator(u_decomp.K2l), [1])\n",
        "\n",
        "#add inverses for the local Bsandwich pre-rotations\n",
        "new_circuit.append(Operator(inv(b_decomp.K2r)), [0])   \n",
        "new_circuit.append(Operator(inv(b_decomp.K2l)), [1])\n",
        "\n",
        "#add the B sandwich\n",
        "new_circuit.append(o_c, [0,1])\n",
        "\n",
        "#add inverses for the local B_sandwich post-rotations\n",
        "new_circuit.append(Operator(inv(b_decomp.K1r)), [0])  \n",
        "new_circuit.append(Operator(inv(b_decomp.K1l)), [1])\n",
        "\n",
        "#add the local random unitary post-rotations to B sandwich\n",
        "new_circuit.append(Operator(u_decomp.K1r), [0])   \n",
        "new_circuit.append(Operator(u_decomp.K1l), [1])"
      ],
      "metadata": {
        "colab": {
          "base_uri": "https://localhost:8080/"
        },
        "id": "sKc30CvSdoDQ",
        "outputId": "7a5eec08-8a3b-4cd7-e9c2-163bc1bf8945"
      },
      "execution_count": null,
      "outputs": [
        {
          "output_type": "execute_result",
          "data": {
            "text/plain": [
              "<qiskit.circuit.instructionset.InstructionSet at 0x7fdfd2ad1f70>"
            ]
          },
          "metadata": {},
          "execution_count": 9
        }
      ]
    },
    {
      "cell_type": "code",
      "source": [
        "# build final circuit and calculate/implement global phase\n",
        "final_circ = new_circuit\n",
        "final_circ.global_phase = u_decomp.global_phase\n",
        "#create operator for the final circuit\n",
        "final_circ = Operator(final_circ)"
      ],
      "metadata": {
        "id": "QGn1zfAQdqlP"
      },
      "execution_count": null,
      "outputs": []
    },
    {
      "cell_type": "code",
      "source": [
        "# Find Weyl Decomposition coordinates of the final circuit\n",
        "a2 = TwoQubitWeylDecomposition(final_circ).a*2\n",
        "b2 = TwoQubitWeylDecomposition(final_circ).b*2\n",
        "c2 = TwoQubitWeylDecomposition(final_circ).c*2"
      ],
      "metadata": {
        "id": "hIyVP6SYdtAM"
      },
      "execution_count": null,
      "outputs": []
    },
    {
      "cell_type": "code",
      "source": [
        "# results\n",
        "# compare the Weyl coordinates of the decomposition with those of the unitary\n",
        "# if the coordinates are the same, the operators are locally equivalent\n",
        "print(\"Weyl Coordinates:\")\n",
        "print(\"   decomposition     original\")\n",
        "print(\"a: \" + str(a2) + \" \" + str(a))\n",
        "print(\"b: \" + str(b2) + \"  \" + str(b))\n",
        "print(\"c: \" + str(c2) + \" \" + str(c))\n",
        "#compare the operators themselves\n",
        "#if \"compare\" returns true, the decomposition is complete\n",
        "compare = Operator(final_circ) == Operator(ru)\n",
        "print(\"The B-decomposition is the same operator as the random unitary: \" + str(compare))\n",
        "#create Weyl Decomposition of the final circuit to compare with the unitary circuit Weyl decomposition\n",
        "final_decomp = TwoQubitWeylDecomposition(final_circ)\n",
        "#print out each Weyl decomposition circuit and global phase (they should be equal)\n",
        "print(\"Unitary Weyl decomposition circuit and global phase:\")\n",
        "print(u_decomp)\n",
        "print(\"B-decomposition Weyl decomposition circuit and global phase:\")\n",
        "print(final_decomp)"
      ],
      "metadata": {
        "colab": {
          "base_uri": "https://localhost:8080/"
        },
        "id": "BsG-3yEXdvM0",
        "outputId": "b76e5698-799d-44d7-815a-c2b9031730ce"
      },
      "execution_count": null,
      "outputs": [
        {
          "output_type": "stream",
          "name": "stdout",
          "text": [
            "Weyl Coordinates:\n",
            "   decomposition     original\n",
            "a: 1.3515503288522526 1.3515503288522526\n",
            "b: 0.7006073148596563  0.7006073148596563\n",
            "c: -0.25128150790708936 -0.25128150790708936\n",
            "The B-decomposition is the same operator as the random unitary: True\n",
            "Unitary Weyl decomposition circuit and global phase:\n",
            "TwoQubitWeylGeneral(\n",
            "\tglobal phase: 1.3744\n",
            "\t     ┌───────────────┐┌────────────┐┌────────────┐┌───────────────┐┌────────────────┐               ┌────────────┐┌─────────────┐┌─────────────┐\n",
            "\tq_0: ┤ Rz(-0.086884) ├┤ Ry(1.1459) ├┤ Rz(1.6039) ├┤0              ├┤0               ├─■─────────────┤ Rz(2.6992) ├┤ Ry(0.78438) ├┤ Rz(-2.8822) ├\n",
            "\t     └┬─────────────┬┘├────────────┤├────────────┤│  Rxx(-1.3516) ││  Ryy(-0.70061) │ │ZZ(0.25128) ┌┴────────────┤└┬────────────┤├─────────────┤\n",
            "\tq_1: ─┤ Rz(-2.9409) ├─┤ Ry(2.6121) ├┤ Rz(1.9817) ├┤1              ├┤1               ├─■────────────┤ Rz(0.19848) ├─┤ Ry(1.8124) ├┤ Rz(-2.7774) ├\n",
            "\t      └─────────────┘ └────────────┘└────────────┘└───────────────┘└────────────────┘              └─────────────┘ └────────────┘└─────────────┘\n",
            ")\n",
            "B-decomposition Weyl decomposition circuit and global phase:\n",
            "TwoQubitWeylGeneral(\n",
            "\tglobal phase: 1.3744\n",
            "\t     ┌───────────────┐┌────────────┐┌────────────┐┌───────────────┐┌────────────────┐               ┌────────────┐┌─────────────┐┌─────────────┐\n",
            "\tq_0: ┤ Rz(-0.086884) ├┤ Ry(1.1459) ├┤ Rz(1.6039) ├┤0              ├┤0               ├─■─────────────┤ Rz(2.6992) ├┤ Ry(0.78438) ├┤ Rz(-2.8822) ├\n",
            "\t     └┬─────────────┬┘├────────────┤├────────────┤│  Rxx(-1.3516) ││  Ryy(-0.70061) │ │ZZ(0.25128) ┌┴────────────┤└┬────────────┤├─────────────┤\n",
            "\tq_1: ─┤ Rz(-2.9409) ├─┤ Ry(2.6121) ├┤ Rz(1.9817) ├┤1              ├┤1               ├─■────────────┤ Rz(0.19848) ├─┤ Ry(1.8124) ├┤ Rz(-2.7774) ├\n",
            "\t      └─────────────┘ └────────────┘└────────────┘└───────────────┘└────────────────┘              └─────────────┘ └────────────┘└─────────────┘\n",
            ")\n"
          ]
        }
      ]
    },
    {
      "cell_type": "markdown",
      "source": [
        "# SWiSQ Decomposition\n",
        "Implements SWiSQ based decomposition as discussed in \"Quantum Instruction Set Design for Performance\" Algorithm 1."
      ],
      "metadata": {
        "id": "FjfSS8srdycY"
      }
    },
    {
      "cell_type": "markdown",
      "source": [
        "### Implement SQiSW Gate"
      ],
      "metadata": {
        "id": "yIKac7VtgwEC"
      }
    },
    {
      "cell_type": "code",
      "source": [
        "#sqrt(iswap) (abbreviated as sis) implementation\n",
        "sqrt2 = np.sqrt(2)\n",
        "#defining sqrt(iswap) operator\n",
        "sis = Operator( [\n",
        "    [1, 0, 0, 0],\n",
        "    [0, 1/sqrt2, 1j/sqrt2, 0],\n",
        "    [0, 1j/sqrt2, 1/sqrt2, 0],\n",
        "    [0, 0, 0, 1] ]) "
      ],
      "metadata": {
        "id": "SkFMl08PrMiD"
      },
      "execution_count": null,
      "outputs": []
    },
    {
      "cell_type": "markdown",
      "source": [
        "### Interleaving Single Qubit Gates Method\n",
        "(From Algorithm 1 in the paper)\n",
        "\n",
        "\n",
        "\n",
        "\n"
      ],
      "metadata": {
        "id": "FCgxat6ig1R5"
      }
    },
    {
      "cell_type": "code",
      "source": [
        "# \"Output the single qubit rotations given the interaction coefficients (x, y, z) ∈ W ′ when sandwiched by two SQiSW gates\" \n",
        "# a, b, c are Weyl Decomposition Coordinates (no scaling needed)\n",
        "def InterleavingSingleQubitGates(a,b,c):\n",
        "  C = np.sin(a + b - c)*np.sin(a - b + c)*np.sin(-a - b - c)*np.sin(-a + b + c)\n",
        "  alpha = np.arccos(np.cos(2*a)-np.cos(2*b)+ np.cos(2*c)+ 2*sqrt(C))\n",
        "  beta = np.arccos(np.cos(2*a)-np.cos(2*b)+ np.cos(2*c) - 2*sqrt(C))\n",
        "  gamma = np.arccos(np.sign(c) * sqrt((4*np.cos(a)**2*np.cos(c)**2*np.sin(b)**2)/\n",
        "                                      (4*np.cos(a)**2*np.cos(c)**2*np.sin(b)**2 + np.cos(2*a)*np.cos(2*b)*np.cos(2*c))))\n",
        "  \n",
        "  c1_circ = QuantumCircuit(1)\n",
        "  c2_circ = QuantumCircuit(1)\n",
        "  c1_circ.rz(gamma,0)\n",
        "  c1_circ.rx(alpha,0)\n",
        "  c1_circ.rz(gamma,0)\n",
        "  c2_circ.rx(beta,0)\n",
        "\n",
        "  #the returned operators correspond to C1 and C2 in the paper\n",
        "  return Operator(c1_circ), Operator(c2_circ) \n",
        "\n",
        "#test the function with sample Weyl coordinates\n",
        "print(InterleavingSingleQubitGates(pi/4,pi/8,0))"
      ],
      "metadata": {
        "id": "CofjMC7auN9e",
        "colab": {
          "base_uri": "https://localhost:8080/"
        },
        "outputId": "15031072-0f6c-46ac-cc1c-6a48b6da6086"
      },
      "execution_count": null,
      "outputs": [
        {
          "output_type": "stream",
          "name": "stdout",
          "text": [
            "(Operator([[2.22044605e-16-1.j, 0.00000000e+00+0.j],\n",
            "          [0.00000000e+00+0.j, 2.22044605e-16+1.j]],\n",
            "         input_dims=(2,), output_dims=(2,)), Operator([[0.5411961+0.j        , 0.       -0.84089642j],\n",
            "          [0.       -0.84089642j, 0.5411961+0.j        ]],\n",
            "         input_dims=(2,), output_dims=(2,)))\n"
          ]
        }
      ]
    },
    {
      "cell_type": "markdown",
      "source": [
        "### Canonicalize Method\n",
        "(From Algorithm 1 in the paper)"
      ],
      "metadata": {
        "id": "ZvRBvfq_g74T"
      }
    },
    {
      "cell_type": "code",
      "source": [
        "# \"Decompose an arbitrary gate into one SQiSW and one L(x′, y′, z′) \n",
        "# where (x′, y′, z′) ∈ W ′ and output the coefficients (x′, y′, z′) \n",
        "# and the interleaving single qubit rotations\"\n",
        "def Canonicalize(a,b,c):\n",
        "  A1 = QuantumCircuit(1)\n",
        "  A2 = QuantumCircuit(1)\n",
        "  B1 = QuantumCircuit(1)\n",
        "  B1.ry(-pi/2,0)\n",
        "  B2 = QuantumCircuit(1)\n",
        "  B2.ry(pi/2,0)\n",
        "  C1 = QuantumCircuit(1)\n",
        "  C1.ry(pi/2,0)\n",
        "  C2 = QuantumCircuit(1)\n",
        "  C2.ry(-pi/2,0)\n",
        "\n",
        "  s = np.sign(c)\n",
        "\n",
        "  #a_ corresponds to a' in the paper, and so on\n",
        "  a_ = a\n",
        "  b_ = b\n",
        "  c_ = abs(c)\n",
        "\n",
        "  if (a > pi/8):\n",
        "    b_ -= pi/8\n",
        "    c_ -= pi/8\n",
        "    B1.rz(pi/2,0)\n",
        "    B2.rz(-pi/2,0)\n",
        "    saved_C1 = Operator(C1)\n",
        "    C1 = QuantumCircuit(1)\n",
        "    C1.rz(-pi/2,0)\n",
        "    C1.append(saved_C1,[0])\n",
        "    saved_C2 = Operator(C2)\n",
        "    C2 = QuantumCircuit(1)\n",
        "    C2.rz(pi/2,0)\n",
        "    C2.append(saved_C2,[0])\n",
        "  else:\n",
        "    a_ += pi/8\n",
        "    c_ -= pi/8\n",
        "  if (abs(b_)<abs(c_)):\n",
        "    c_ = -c_\n",
        "    #b_ = -b_\n",
        "    A1.rx(pi/2, 0)\n",
        "    A2.rx(-pi/2,0)\n",
        "    B1.rx(-pi/2,0)\n",
        "    B2.rx(pi/2,0)\n",
        "  if (s<0):\n",
        "    c_ = -c_\n",
        "    saved_A1 = Operator(A1)\n",
        "    saved_B1 = Operator(B1)\n",
        "    saved_C1 = Operator(C1)\n",
        "    A1 = QuantumCircuit(1)\n",
        "    B1 = QuantumCircuit(1)\n",
        "    C1 = QuantumCircuit(1)\n",
        "    A1.z(0)\n",
        "    A1.append(saved_A1,[0])\n",
        "    A1.z(0)\n",
        "    B1.z(0)\n",
        "    B1.append(saved_B1,[0])\n",
        "    B1.z(0)\n",
        "    C1.z(0)\n",
        "    C1.append(saved_C1,[0])\n",
        "    C1.z(0)\n",
        "\n",
        "  return a_,b_,c_, Operator(A1), Operator(A2), Operator(B1), Operator(B2), Operator(C1), Operator(C2)\n",
        "\n",
        "#test the method with sample Weyl Coordinates\n",
        "print(Canonicalize(pi/4,pi/8,0))"
      ],
      "metadata": {
        "colab": {
          "base_uri": "https://localhost:8080/"
        },
        "id": "f8vQi1VbXIeU",
        "outputId": "15f49063-9071-44e8-93df-ac7656ae03e5"
      },
      "execution_count": null,
      "outputs": [
        {
          "output_type": "stream",
          "name": "stdout",
          "text": [
            "(0.7853981633974483, 0.0, 0.39269908169872414, Operator([[0.70710678+0.j        , 0.        -0.70710678j],\n",
            "          [0.        -0.70710678j, 0.70710678+0.j        ]],\n",
            "         input_dims=(2,), output_dims=(2,)), Operator([[0.70710678+0.j        , 0.        +0.70710678j],\n",
            "          [0.        +0.70710678j, 0.70710678+0.j        ]],\n",
            "         input_dims=(2,), output_dims=(2,)), Operator([[ 7.07106781e-01-7.07106781e-01j,\n",
            "            5.55111512e-17+5.55111512e-17j],\n",
            "          [-5.55111512e-17+5.55111512e-17j,\n",
            "            7.07106781e-01+7.07106781e-01j]],\n",
            "         input_dims=(2,), output_dims=(2,)), Operator([[ 1.66533454e-16+5.55111512e-17j,\n",
            "           -7.07106781e-01-7.07106781e-01j],\n",
            "          [ 7.07106781e-01-7.07106781e-01j,\n",
            "            1.66533454e-16-5.55111512e-17j]],\n",
            "         input_dims=(2,), output_dims=(2,)), Operator([[ 0.5+0.5j, -0.5+0.5j],\n",
            "          [ 0.5+0.5j,  0.5-0.5j]],\n",
            "         input_dims=(2,), output_dims=(2,)), Operator([[ 0.5-0.5j,  0.5+0.5j],\n",
            "          [-0.5+0.5j,  0.5+0.5j]],\n",
            "         input_dims=(2,), output_dims=(2,)))\n"
          ]
        }
      ]
    },
    {
      "cell_type": "markdown",
      "source": [
        "###KAK Decomposition Method \n",
        "(as it relates to Algorithm 1 from the paper)"
      ],
      "metadata": {
        "id": "c54RGaI6hBsL"
      }
    },
    {
      "cell_type": "code",
      "source": [
        "# decompose the circuit such that \"U = g · (A1 ⊗ A2)L(x, y, z)(B1 ⊗ B2)\"\n",
        "# we use the pre/post rotation decomposition as with the B-gate decomposition method\n",
        "def KAKDecomp(u):\n",
        "  u_decomp = TwoQubitWeylDecomposition(u)\n",
        "  #global phase\n",
        "  g = u_decomp.global_phase\n",
        "  #Weyl coordinates of unitary\n",
        "  a_u = u_decomp.a\n",
        "  b_u = u_decomp.b\n",
        "  c_u = u_decomp.c\n",
        "  #pre/post rotations\n",
        "  A1 = u_decomp.K1r\n",
        "  A2 = u_decomp.K1l\n",
        "  B1 = u_decomp.K2r\n",
        "  B2 = u_decomp.K2l\n",
        "\n",
        "  return g, a_u, b_u, c_u, A1, A2, B1, B2\n",
        "\n",
        "#test the KAKDecomp method with a random 2-qubit unitary\n",
        "print(KAKDecomp(random_unitary(4)))"
      ],
      "metadata": {
        "colab": {
          "base_uri": "https://localhost:8080/"
        },
        "id": "arFFF4tA1E1V",
        "outputId": "a0bbdd13-8284-4461-9fe0-9f71940e808a"
      },
      "execution_count": null,
      "outputs": [
        {
          "output_type": "stream",
          "name": "stdout",
          "text": [
            "(1.6804884970047922, 0.749986920079829, 0.4239620842951212, 0.2172831325354171, array([[-0.08525431-0.08154287j,  0.74200064-0.6599375j ],\n",
            "       [-0.74200064-0.6599375j , -0.08525431+0.08154287j]]), array([[ 0.13871107-0.5676728j , -0.11529743+0.80325172j],\n",
            "       [ 0.11529743+0.80325172j,  0.13871107+0.5676728j ]]), array([[ 0.31974121-0.11901251j, -0.93773644-0.06520703j],\n",
            "       [ 0.93773644-0.06520703j,  0.31974121+0.11901251j]]), array([[ 0.50146016+0.1810523j ,  0.8332392 +0.14652712j],\n",
            "       [-0.8332392 +0.14652712j,  0.50146016-0.1810523j ]]))\n"
          ]
        }
      ]
    },
    {
      "cell_type": "markdown",
      "source": [
        "### Full Decomposition Method\n",
        "(Decomp(U) from the paper)"
      ],
      "metadata": {
        "id": "3yDAJz4RiWcQ"
      }
    },
    {
      "cell_type": "code",
      "source": [
        "#\"Decompose U into single qubit gates and the SQiSW gate\"\n",
        "#u is a random 2 qubit unitary\n",
        "def sis_decomp(u):\n",
        "  g, a, b, c, A1, A2, B1, B2 = KAKDecomp(u)\n",
        "  A1 = Operator(A1)\n",
        "  A2 = Operator(A2)\n",
        "  B1 = Operator(B1)\n",
        "  B2 = Operator(B2)\n",
        "\n",
        "  #in the case that two sis gates are needed\n",
        "  if (abs(c) <= (a-b)):\n",
        "    C1, C2 = InterleavingSingleQubitGates(a,b,c)\n",
        "\n",
        "    # create V operator\n",
        "    V = QuantumCircuit(2)\n",
        "    V.append(sis,[0,1])\n",
        "    V.append(C1,[0])\n",
        "    V.append(C2,[1])\n",
        "    V.append(sis,[0,1])\n",
        "    V = Operator(V)\n",
        "\n",
        "    g3, a3, b3, c3, D1, D2, E1, E2= KAKDecomp(V)\n",
        "\n",
        "    # calculate inverses from KAKDecomp(V)\n",
        "    D1i = Operator(inv(D1))\n",
        "    D2i = Operator(inv(D2))\n",
        "    E1i = Operator(inv(E1))\n",
        "    E2i = Operator(inv(E2))\n",
        "\n",
        "    # create decomposed circuit to be returned\n",
        "    ret_c = QuantumCircuit(2)\n",
        "\n",
        "    ret_c.append(B1, [0])\n",
        "    ret_c.append(B2, [1])\n",
        "    ret_c.append(E1i, [0])\n",
        "    ret_c.append(E2i, [1])\n",
        "\n",
        "    ret_c.append(sis, [0,1])\n",
        "\n",
        "    ret_c.append(C1, [0])\n",
        "    ret_c.append(C2, [1])\n",
        "\n",
        "    ret_c.append(sis, [0,1])\n",
        "\n",
        "    ret_c.append(D1i, [0])\n",
        "    ret_c.append(D2i, [1])\n",
        "    ret_c.append(A1, [0])\n",
        "    ret_c.append(A2, [1])\n",
        "\n",
        "    return ret_c\n",
        "\n",
        "  #in the case that three sis gates are needed\n",
        "  else:\n",
        "    a_,b_,c_, F1, F2, G1, G2, H1, H2 = Canonicalize(a,b,c)\n",
        "    C1, C2 = InterleavingSingleQubitGates(a_,b_,c_)\n",
        "\n",
        "    # create V operator\n",
        "    V = QuantumCircuit(2)\n",
        "    V.append(sis,[0,1])\n",
        "    V.append(C1,[0])\n",
        "    V.append(C2,[1])\n",
        "    V.append(sis,[0,1])\n",
        "    V = Operator(V)\n",
        "    \n",
        "    g3, a3, b3, c3, D1, D2, E1, E2= KAKDecomp(V)\n",
        "\n",
        "    # calculate inverses from KAKDecomp(V)\n",
        "    D1i = Operator(inv(D1))\n",
        "    D2i = Operator(inv(D2))\n",
        "    E1i = Operator(inv(E1))\n",
        "    E2i = Operator(inv(E2))\n",
        "\n",
        "    # create decomposed return circuit\n",
        "    ret_c = QuantumCircuit(2)\n",
        "\n",
        "    ret_c.append(B1, [0])\n",
        "    ret_c.append(B2, [1])\n",
        "    ret_c.append(H1, [0])\n",
        "    ret_c.append(H2, [1])\n",
        "\n",
        "    ret_c.append(sis, [0,1])\n",
        "\n",
        "    ret_c.append(G1, [0])\n",
        "    ret_c.append(G2, [1])\n",
        "    ret_c.append(E1i, [0])\n",
        "    ret_c.append(E2i, [1])\n",
        "\n",
        "    ret_c.append(sis, [0,1])\n",
        "\n",
        "    ret_c.append(C1, [0])\n",
        "    ret_c.append(C2, [1])\n",
        "\n",
        "    ret_c.append(sis, [0,1])\n",
        "\n",
        "    ret_c.append(D1i, [0])\n",
        "    ret_c.append(D2i, [1])\n",
        "    ret_c.append(F1, [0])\n",
        "    ret_c.append(F2, [1])\n",
        "    ret_c.append(A1, [0])\n",
        "    ret_c.append(A2, [1])\n",
        "\n",
        "    return ret_c"
      ],
      "metadata": {
        "id": "6ta60EbHcDCH"
      },
      "execution_count": null,
      "outputs": []
    },
    {
      "cell_type": "markdown",
      "source": [
        "### Final Circuit & Results"
      ],
      "metadata": {
        "id": "mRARvUDGlXuS"
      }
    },
    {
      "cell_type": "code",
      "source": [
        "# initialize final circuit and random unitary\n",
        "cxc = QuantumCircuit(2)\n",
        "cxc.cx(0,1)\n",
        "cxc = Operator(cxc)\n",
        "u10 = cxc #random_unitary(4)\n",
        "# create Weyl Decomposition circuit for random unitary\n",
        "u10_decomp = TwoQubitWeylDecomposition(u10)\n",
        "# decompose unitary with Algorithm 1 from paper\n",
        "new_c = sis_decomp(u10)\n",
        "#print out the decomposed circuit\n",
        "print(new_c)"
      ],
      "metadata": {
        "colab": {
          "base_uri": "https://localhost:8080/"
        },
        "id": "BDz64E3yhSSL",
        "outputId": "2ddddbd2-b263-492f-e6b9-6875d0a1d9eb"
      },
      "execution_count": null,
      "outputs": [
        {
          "output_type": "stream",
          "name": "stdout",
          "text": [
            "     ┌─────────┐┌─────────┐┌──────────┐┌─────────┐┌──────────┐┌─────────┐»\n",
            "q_0: ┤ Unitary ├┤ Unitary ├┤0         ├┤ Unitary ├┤0         ├┤ Unitary ├»\n",
            "     ├─────────┤├─────────┤│  Unitary │├─────────┤│  Unitary │├─────────┤»\n",
            "q_1: ┤ Unitary ├┤ Unitary ├┤1         ├┤ Unitary ├┤1         ├┤ Unitary ├»\n",
            "     └─────────┘└─────────┘└──────────┘└─────────┘└──────────┘└─────────┘»\n",
            "«     ┌─────────┐\n",
            "«q_0: ┤ Unitary ├\n",
            "«     ├─────────┤\n",
            "«q_1: ┤ Unitary ├\n",
            "«     └─────────┘\n"
          ]
        }
      ]
    },
    {
      "cell_type": "markdown",
      "source": [
        "####Apply local pre and post rotations to decomposition circuit"
      ],
      "metadata": {
        "id": "SAOCXG-xlDev"
      }
    },
    {
      "cell_type": "code",
      "source": [
        "#create operator from decomposition circuit and find Weyl Decomposition\n",
        "new_c_op = Operator(new_c)\n",
        "new_c_decomp = TwoQubitWeylDecomposition(new_c_op)\n",
        "\n",
        "#create temporary circuit for the pre and post rotations\n",
        "temp_circuit1 = QuantumCircuit(2)\n",
        "\n",
        "#apply pre/post rotations based on method used for B-gate decomposition\n",
        "# temp_circuit1.append(Operator(u10_decomp.K2r), [0])  \n",
        "# temp_circuit1.append(Operator(u10_decomp.K2l), [1])\n",
        "\n",
        "# temp_circuit1.append(Operator(inv(new_c_decomp.K2r)), [0])   \n",
        "# temp_circuit1.append(Operator(inv(new_c_decomp.K2l)), [1])\n",
        "\n",
        "temp_circuit1.append(new_c_op, [0,1])\n",
        "\n",
        "# temp_circuit1.append(Operator(inv(new_c_decomp.K1r)), [0])  \n",
        "# temp_circuit1.append(Operator(inv(new_c_decomp.K1l)), [1])\n",
        "\n",
        "# temp_circuit1.append(Operator(u10_decomp.K1r), [0])   \n",
        "# temp_circuit1.append(Operator(u10_decomp.K1l), [1])"
      ],
      "metadata": {
        "colab": {
          "base_uri": "https://localhost:8080/"
        },
        "id": "GMD8MxY-k9j_",
        "outputId": "251ae00f-f5ac-4b86-ef93-f43c64710411"
      },
      "execution_count": null,
      "outputs": [
        {
          "output_type": "execute_result",
          "data": {
            "text/plain": [
              "<qiskit.circuit.instructionset.InstructionSet at 0x7f9f9cbafa00>"
            ]
          },
          "metadata": {},
          "execution_count": 36
        }
      ]
    },
    {
      "cell_type": "code",
      "source": [
        "# construct final circuit with global phase\n",
        "final_circ1 = temp_circuit1\n",
        "final_circ1.global_phase = u10_decomp.global_phase\n",
        "\n",
        "#create operator from final circuit to find Weyl decomposition\n",
        "final_circ1 = Operator(final_circ1)\n",
        "final_c_decomp = TwoQubitWeylDecomposition(final_circ1)"
      ],
      "metadata": {
        "id": "lLlqSBDOhaUx"
      },
      "execution_count": null,
      "outputs": []
    },
    {
      "cell_type": "code",
      "source": [
        "# test and print results\n",
        "# find weyl coordinates of the random unitary and the final decomposed circuit\n",
        "test_a = u10_decomp.a\n",
        "test_b = u10_decomp.b\n",
        "test_c = u10_decomp.c\n",
        "circ_a = final_c_decomp.a\n",
        "circ_b = final_c_decomp.b\n",
        "circ_c = final_c_decomp.c\n",
        "\n",
        "# compare the Weyl coordinates of the decomposition with those of the unitary\n",
        "# if the coordinates are the same, the operators are locally equivalent\n",
        "print(\"Weyl Coordinates:\")\n",
        "print(\"   decomposition     original\")\n",
        "print(\"a: \" + str(circ_a) + \" \" + str(test_a))\n",
        "print(\"b: \" + str(circ_b) + \"  \" + str(test_b))\n",
        "print(\"c: \" + str(circ_c) + \" \" + str(test_c))\n",
        "#compare the operators themselves\n",
        "#if \"compare\" returns true, the decomposition is complete\n",
        "compare1 = Operator(final_circ1) == Operator(u10)\n",
        "print(\"The sis decomposition is the same operator as the random unitary: \" + str(compare1))\n",
        "\n",
        "#print out the Weyl decomposition circuits of the unitary and the decomposed circuit\n",
        "#(they should be the same circuit)\n",
        "\n",
        "print(\"sis decomposition:\")\n",
        "print(final_c_decomp)\n",
        "print(\"unitary:\")\n",
        "print(u10_decomp)"
      ],
      "metadata": {
        "colab": {
          "base_uri": "https://localhost:8080/"
        },
        "id": "WjNmUaQiIYGf",
        "outputId": "f110f086-f7e6-40e6-cee7-622d70455bf8"
      },
      "execution_count": null,
      "outputs": [
        {
          "output_type": "stream",
          "name": "stdout",
          "text": [
            "Weyl Coordinates:\n",
            "   decomposition     original\n",
            "a: 0.7853981633974483 0.7853981633974483\n",
            "b: 0  0\n",
            "c: 0 0\n",
            "The sis decomposition is the same operator as the random unitary: False\n",
            "sis decomposition:\n",
            "TwoQubitWeylControlledEquiv(\n",
            "\tglobal phase: 5π/4\n",
            "\t      ┌──────────┐ ┌────────┐┌────────────┐ ┌──────────┐ ┌─────────┐\n",
            "\tq_0: ─┤ Ry(-π/2) ├─┤ Rx(-π) ├┤0           ├─┤ Rx(-π/2) ├─┤ Ry(π/2) ├\n",
            "\t     ┌┴──────────┴┐└────────┘│  Rxx(-π/2) │┌┴──────────┴┐└─────────┘\n",
            "\tq_1: ┤ Rx(2.2516) ├──────────┤1           ├┤ Rx(2.4608) ├───────────\n",
            "\t     └────────────┘          └────────────┘└────────────┘           \n",
            ")\n",
            "unitary:\n",
            "TwoQubitWeylControlledEquiv(\n",
            "\tglobal phase: π/4\n",
            "\t      ┌─────────┐  ┌────────────┐   ┌─────────┐   ┌──────────┐\n",
            "\tq_0: ─┤ Ry(π/2) ├──┤0           ├───┤ Rx(π/2) ├───┤ Ry(-π/2) ├\n",
            "\t     ┌┴─────────┴─┐│  Rxx(-π/2) │┌──┴─────────┴──┐└──────────┘\n",
            "\tq_1: ┤ Rx(1.5695) ├┤1           ├┤ Rx(0.0013233) ├────────────\n",
            "\t     └────────────┘└────────────┘└───────────────┘            \n",
            ")\n"
          ]
        }
      ]
    }
  ]
}